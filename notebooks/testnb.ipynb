{
 "cells": [
  {
   "cell_type": "code",
   "execution_count": 3,
   "metadata": {},
   "outputs": [],
   "source": [
    "import ipyhc as hc\n",
    "import numpy as np\n",
    "import pandas as pd"
   ]
  },
  {
   "cell_type": "code",
   "execution_count": 11,
   "metadata": {},
   "outputs": [
    {
     "data": {
      "application/vnd.jupyter.widget-view+json": {
       "model_id": "921e2afbcc774ce9ae227af07c3de557",
       "version_major": 2,
       "version_minor": 0
      },
      "text/plain": [
       "Chart(height='350px', width='100%')"
      ]
     },
     "metadata": {},
     "output_type": "display_data"
    }
   ],
   "source": [
    "data_1 = [{\n",
    "            'name': 'Jane',\n",
    "            'data': [1]\n",
    "        }, {\n",
    "            'name': 'John',\n",
    "            'data': [5]\n",
    "        }]\n",
    "\n",
    "options_1 = {\n",
    "        'chart': {\n",
    "            'type': 'bar'\n",
    "        },\n",
    "        'title': {\n",
    "            'text': 'Fruit Consumption'\n",
    "        },\n",
    "        'xAxis': {\n",
    "            'categories': ['Apples', 'Bananas', 'Oranges']\n",
    "        },\n",
    "        'yAxis': {\n",
    "            'title': {\n",
    "                'text': 'Fruit eaten'\n",
    "            }\n",
    "        },\n",
    "    }\n",
    "\n",
    "hc.Chart(data = data_1, options = options_1)"
   ]
  },
  {
   "cell_type": "code",
   "execution_count": 12,
   "metadata": {},
   "outputs": [
    {
     "data": {
      "application/vnd.jupyter.widget-view+json": {
       "model_id": "3580ecd83c9d4124a95de14717544c99",
       "version_major": 2,
       "version_minor": 0
      },
      "text/plain": [
       "Chart(height='350px', stock=True, width='100%')"
      ]
     },
     "metadata": {},
     "output_type": "display_data"
    }
   ],
   "source": [
    "data_3 = [{\n",
    "            'name': 'AAPL',\n",
    "            'data': [[1496323800000,153.18],[1496410200000,155.45],[1496669400000,153.93]],\n",
    "            'tooltip': {\n",
    "            'valueDecimals': 2\n",
    "            }\n",
    "        }]\n",
    "\n",
    "options_3 = {\n",
    "        'chart': {},\n",
    "        'title': {\n",
    "            'text': 'AAPL Stock Price'\n",
    "        },\n",
    "    }\n",
    "\n",
    "chart_3 = hc.Chart(stock = True, data = data_3, options = options_3)\n",
    "chart_3"
   ]
  },
  {
   "cell_type": "code",
   "execution_count": null,
   "metadata": {},
   "outputs": [],
   "source": []
  }
 ],
 "metadata": {
  "kernelspec": {
   "display_name": "Python 3",
   "language": "python",
   "name": "python3"
  },
  "language_info": {
   "codemirror_mode": {
    "name": "ipython",
    "version": 3
   },
   "file_extension": ".py",
   "mimetype": "text/x-python",
   "name": "python",
   "nbconvert_exporter": "python",
   "pygments_lexer": "ipython3",
   "version": "3.7.3"
  }
 },
 "nbformat": 4,
 "nbformat_minor": 2
}
